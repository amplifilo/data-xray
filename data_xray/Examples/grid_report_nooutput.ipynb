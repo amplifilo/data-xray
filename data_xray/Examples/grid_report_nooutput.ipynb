{
 "cells": [
  {
   "cell_type": "code",
   "execution_count": 19,
   "metadata": {},
   "outputs": [],
   "source": [
    "'''import functions'''\n",
    "\n",
    "from data_xray.file_io import GetData\n",
    "from data_xray.modules import *\n",
    "from data_xray.report import SummaryPPT\n",
    "from data_xray.nanonisio import Grid\n",
    "import xarray as xr\n",
    "import pandas as pd\n",
    "import os\n"
   ]
  },
  {
   "cell_type": "code",
   "execution_count": 13,
   "outputs": [],
   "source": [
    "gridfile = \"/Users/5nm/Dropbox (ORNL)/JSTM/Data - JTSTM/2021-07-15 FeSe defects dIdV maps/20210718_Subgrid_001.3ds\""
   ],
   "metadata": {
    "collapsed": false
   }
  },
  {
   "cell_type": "code",
   "execution_count": 10,
   "outputs": [
    {
     "name": "stdout",
     "output_type": "stream",
     "text": [
      "/Users/5nm/Dropbox (ORNL)/JSTM/Data - JTSTM/2021-07-15 FeSe defects dIdV maps/20210718_Subgrid_001.3ds imported\n",
      "reading /Users/5nm/Dropbox (ORNL)/JSTM/Data - JTSTM/2021-07-15 FeSe defects dIdV maps/20210718_Subgrid_001.3ds failed\n"
     ]
    }
   ],
   "source": [
    "grid = Grid(gridfile);"
   ],
   "metadata": {
    "collapsed": false
   }
  },
  {
   "cell_type": "code",
   "execution_count": 11,
   "outputs": [],
   "source": [
    "grid.ds.to_netcdf(\"/Users/5nm/Dropbox \\\n",
    "(ORNL)/Papers_In_Preparation/(2023)_FeSe_NMF_revisisted/Analysis/20210718_Subgrid_001.3ds.nc\")"
   ],
   "metadata": {
    "collapsed": false
   }
  },
  {
   "cell_type": "code",
   "execution_count": null,
   "outputs": [],
   "source": [
    "#Get all Grids"
   ],
   "metadata": {
    "collapsed": false
   }
  },
  {
   "cell_type": "markdown",
   "source": [
    "Get all grid files"
   ],
   "metadata": {
    "collapsed": false
   }
  },
  {
   "cell_type": "code",
   "execution_count": 21,
   "outputs": [],
   "source": [
    "topdir = os.path.dirname(gridfile)\n",
    "gridFiles = GetData.find_data(topdir=topdir, ext='3ds', get_data=False, header_only=True);"
   ],
   "metadata": {
    "collapsed": false
   }
  },
  {
   "cell_type": "code",
   "execution_count": 23,
   "outputs": [
    {
     "name": "stdout",
     "output_type": "stream",
     "text": [
      "/Users/5nm/Dropbox (ORNL)/JSTM/Data - JTSTM/2021-07-15 FeSe defects dIdV maps/20210716_Subgrid_001.3ds imported\n",
      "reading /Users/5nm/Dropbox (ORNL)/JSTM/Data - JTSTM/2021-07-15 FeSe defects dIdV maps/20210716_Subgrid_001.3ds failed\n",
      "/Users/5nm/Dropbox (ORNL)/JSTM/Data - JTSTM/2021-07-15 FeSe defects dIdV maps/20210716_Subgrid_002.3ds imported\n",
      "reading /Users/5nm/Dropbox (ORNL)/JSTM/Data - JTSTM/2021-07-15 FeSe defects dIdV maps/20210716_Subgrid_002.3ds failed\n",
      "/Users/5nm/Dropbox (ORNL)/JSTM/Data - JTSTM/2021-07-15 FeSe defects dIdV maps/20210718_Subgrid_001.3ds imported\n",
      "reading /Users/5nm/Dropbox (ORNL)/JSTM/Data - JTSTM/2021-07-15 FeSe defects dIdV maps/20210718_Subgrid_001.3ds failed\n"
     ]
    }
   ],
   "source": [
    "for f in gridFiles:\n",
    "    g = Grid(f)\n",
    "    g.ds.to_netcdf(\"/Users/5nm/Dropbox \\\n",
    "(ORNL)/Papers_In_Preparation/(2023)_FeSe_NMF_revisisted/Analysis/\" + os.path.basename(f) + '.3ds.nc')"
   ],
   "metadata": {
    "collapsed": false
   }
  },
  {
   "cell_type": "code",
   "execution_count": null,
   "metadata": {},
   "outputs": [],
   "source": [
    "'''\n",
    "what about .dat files (single spectra?)\n",
    "'''\n"
   ]
  },
  {
   "cell_type": "code",
   "execution_count": null,
   "metadata": {},
   "outputs": [],
   "source": [
    "sourceFolder = fio.GetData.select_folder()\n"
   ]
  },
  {
   "cell_type": "code",
   "execution_count": null,
   "metadata": {},
   "outputs": [],
   "source": [
    "sourceFolder"
   ]
  },
  {
   "cell_type": "code",
   "execution_count": null,
   "metadata": {},
   "outputs": [],
   "source": [
    "datdict = fio.GetData.find_data(topdir=sourceFolder, ext='dat', get_data=False)\n"
   ]
  },
  {
   "cell_type": "code",
   "execution_count": null,
   "metadata": {},
   "outputs": [],
   "source": [
    "datdict"
   ]
  },
  {
   "cell_type": "code",
   "execution_count": null,
   "metadata": {},
   "outputs": [],
   "source": []
  },
  {
   "cell_type": "code",
   "execution_count": null,
   "metadata": {},
   "outputs": [],
   "source": [
    "s1 = Spectrum(datdict[0])\n"
   ]
  },
  {
   "cell_type": "code",
   "execution_count": null,
   "metadata": {},
   "outputs": [],
   "source": [
    "def packIV():\n"
   ]
  },
  {
   "cell_type": "code",
   "execution_count": null,
   "metadata": {},
   "outputs": [],
   "source": [
    "\n",
    "\n",
    "cur = np.mean([s1.signals[\"Current (A)\"], s1.signals[\"Current [bwd] (A)\"]], axis=0)\n",
    "bias = s1.signals[\"Bias calc (V)\"]"
   ]
  },
  {
   "cell_type": "code",
   "execution_count": null,
   "metadata": {},
   "outputs": [],
   "source": [
    "iv = xr.DataArray(data=cur, coords={\"bias\":bias})"
   ]
  },
  {
   "cell_type": "code",
   "execution_count": null,
   "metadata": {},
   "outputs": [],
   "source": [
    "ivset=xr.Dataset(data_vars=dict(iv1=(\"bias\",cur), iv2=(\"bias\",cur)), coords={\"bias\":bias})"
   ]
  },
  {
   "cell_type": "code",
   "execution_count": null,
   "metadata": {},
   "outputs": [],
   "source": [
    "ivset"
   ]
  },
  {
   "cell_type": "code",
   "execution_count": null,
   "metadata": {},
   "outputs": [],
   "source": [
    "f2,a2= plt.subplots()\n",
    "ivset.plot.scatter(x=\"bias\", y=\"iv1\", axes=a2)\n",
    "ivset.plot.scatter(x=\"bias\", y=\"iv2\", axes=a2)\n"
   ]
  },
  {
   "cell_type": "code",
   "execution_count": null,
   "metadata": {},
   "outputs": [],
   "source": [
    "s1.__dict__.keys()"
   ]
  },
  {
   "cell_type": "code",
   "execution_count": null,
   "metadata": {},
   "outputs": [],
   "source": [
    "[re.match(\"Z\",s) for s in s1.header]"
   ]
  },
  {
   "cell_type": "code",
   "execution_count": null,
   "metadata": {},
   "outputs": [],
   "source": [
    "import re"
   ]
  },
  {
   "cell_type": "code",
   "execution_count": null,
   "metadata": {},
   "outputs": [],
   "source": [
    "dd = re.match(\"hello\", \"hellogood\")"
   ]
  },
  {
   "cell_type": "code",
   "execution_count": null,
   "metadata": {},
   "outputs": [],
   "source": [
    "dd"
   ]
  },
  {
   "cell_type": "code",
   "execution_count": null,
   "metadata": {},
   "outputs": [],
   "source": [
    "np.float(s1.header[\"Z (m)\"]) + np.float(s1.header[\"Z offset (m)\"])"
   ]
  },
  {
   "cell_type": "code",
   "execution_count": null,
   "metadata": {},
   "outputs": [],
   "source": [
    "\n"
   ]
  },
  {
   "cell_type": "code",
   "execution_count": null,
   "metadata": {},
   "outputs": [],
   "source": []
  }
 ],
 "nbformat": 4,
 "nbformat_minor": 2,
 "metadata": {
  "language_info": {
   "codemirror_mode": {
    "name": "ipython",
    "version": 3
   },
   "file_extension": ".py",
   "mimetype": "text/x-python",
   "name": "python",
   "nbconvert_exporter": "python",
   "pygments_lexer": "ipython3",
   "version": 3
  },
  "orig_nbformat": 4
 }
}
